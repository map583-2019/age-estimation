{
 "cells": [
  {
   "cell_type": "code",
   "execution_count": 25,
   "metadata": {},
   "outputs": [],
   "source": [
    "import sys\n",
    "import numpy as np\n",
    "from PIL import Image\n",
    "\n",
    "import torch\n",
    "import torch.nn as nn\n",
    "import torch.nn.functional as F\n",
    "from torch.autograd import Variable\n",
    "\n",
    "from train import twoHiddenNet\n",
    "from utils.img_to_vec import Img2Vec\n",
    "\n",
    "import os\n",
    "import cv2"
   ]
  },
  {
   "cell_type": "code",
   "execution_count": 26,
   "metadata": {},
   "outputs": [],
   "source": [
    "MODEL_PATH = \"../model/age_est_model.pt\""
   ]
  },
  {
   "cell_type": "code",
   "execution_count": 33,
   "metadata": {},
   "outputs": [],
   "source": [
    "def get_feats(image_path):\n",
    "    fe = Img2Vec(cuda=False)  # change this if you use Cuda version of the PyTorch.\n",
    "    img = Image.open(image_path)\n",
    "    \n",
    "    # The model could only handle 3-channel images, so we convert 1-channel image to 3-channel image\n",
    "    channels = img.split()\n",
    "    if len(channels) == 1:\n",
    "        img = Image.merge('RGB', (channels[0], channels[0], channels[0]))\n",
    "    \n",
    "    img = img.resize((224, 224))\n",
    "    feats = fe.get_vec(img).reshape(1, -1)\n",
    "    return feats"
   ]
  },
  {
   "cell_type": "code",
   "execution_count": 34,
   "metadata": {},
   "outputs": [],
   "source": [
    "def get_model():\n",
    "    model = twoHiddenNet()\n",
    "    model.load_state_dict(torch.load(MODEL_PATH))\n",
    "    return model"
   ]
  },
  {
   "cell_type": "code",
   "execution_count": 35,
   "metadata": {},
   "outputs": [],
   "source": [
    "def estimate_age_from_image(image_path):\n",
    "\n",
    "    image_feats = get_feats(image_path)\n",
    "    \n",
    "    \n",
    "    \n",
    "    \n",
    "    model = get_model()\n",
    "    estimated_age = model(Variable(torch.from_numpy(image_feats).float()))\n",
    "    return estimated_age.data.cpu().numpy()[0][0]"
   ]
  },
  {
   "cell_type": "code",
   "execution_count": 36,
   "metadata": {},
   "outputs": [],
   "source": [
    "def parse_age(image_name):\n",
    "    '''\n",
    "    example: 23300_1962-06-19_2011.jpg\n",
    "    the calculation: age=2011-1962=49\n",
    "    return 49\n",
    "    '''\n",
    "    tokens1 = image_name.split('.')\n",
    "    tokens2 = tokens1[0].split('_')\n",
    "    tokens3 = tokens2[1].split('-')\n",
    "    dob = int(tokens3[0])\n",
    "    photo = int(tokens2[2])\n",
    "    return photo-dob"
   ]
  },
  {
   "cell_type": "code",
   "execution_count": 39,
   "metadata": {},
   "outputs": [],
   "source": [
    "def test(test_data_path):\n",
    "    difs_by_age = {}\n",
    "    folders = os.listdir(test_data_path)\n",
    "    for folder in folders:\n",
    "        images = os.listdir(test_data_path+folder)\n",
    "        print('working on folder ', folder, ', ', len(images), ' images to be tested')\n",
    "        for image in images:\n",
    "            try:\n",
    "                \n",
    "                age_est = estimate_age_from_image(test_data_path+folder+'/'+image)\n",
    "                age_ref = parse_age(image)\n",
    "                if not age_ref in difs_by_age:\n",
    "                    difs_by_age[age_ref] = []\n",
    "                dif = abs(age_est - age_ref)\n",
    "                difs_by_age[age_ref].append(dif)\n",
    "            except Exception as e:\n",
    "                print('Exception caught on path ', folder+'/'+image)\n",
    "                raise e\n",
    "    return difs_by_age\n",
    "        "
   ]
  },
  {
   "cell_type": "code",
   "execution_count": 40,
   "metadata": {},
   "outputs": [
    {
     "name": "stdout",
     "output_type": "stream",
     "text": [
      "working on folder  69 ,  14  images to be tested\n"
     ]
    },
    {
     "name": "stderr",
     "output_type": "stream",
     "text": [
      "/home/dongwenjian/anaconda3/lib/python3.6/site-packages/torchvision/transforms/transforms.py:188: UserWarning: The use of the transforms.Scale transform is deprecated, please use transforms.Resize instead.\n",
      "  \"please use transforms.Resize instead.\")\n",
      "/home/dongwenjian/Jupyter/DeepLearningWithPyTorch/projet/GitHub/age-estimation/src/train.py:22: UserWarning: nn.init.xavier_uniform is now deprecated in favor of nn.init.xavier_uniform_.\n",
      "  nn.init.xavier_uniform(self.layer1.weight)\n",
      "/home/dongwenjian/Jupyter/DeepLearningWithPyTorch/projet/GitHub/age-estimation/src/train.py:25: UserWarning: nn.init.xavier_uniform is now deprecated in favor of nn.init.xavier_uniform_.\n",
      "  nn.init.xavier_uniform(self.layer2.weight)\n",
      "/home/dongwenjian/Jupyter/DeepLearningWithPyTorch/projet/GitHub/age-estimation/src/train.py:28: UserWarning: nn.init.xavier_uniform is now deprecated in favor of nn.init.xavier_uniform_.\n",
      "  nn.init.xavier_uniform(self.layer3.weight)\n"
     ]
    },
    {
     "name": "stdout",
     "output_type": "stream",
     "text": [
      "working on folder  27 ,  89  images to be tested\n",
      "working on folder  41 ,  46  images to be tested\n",
      "working on folder  62 ,  19  images to be tested\n",
      "working on folder  50 ,  18  images to be tested\n",
      "working on folder  73 ,  6  images to be tested\n",
      "working on folder  71 ,  12  images to be tested\n",
      "working on folder  74 ,  3  images to be tested\n",
      "working on folder  47 ,  29  images to be tested\n",
      "working on folder  39 ,  27  images to be tested\n",
      "working on folder  91 ,  5  images to be tested\n",
      "working on folder  29 ,  85  images to be tested\n",
      "working on folder  100 ,  0  images to be tested\n",
      "working on folder  70 ,  12  images to be tested\n",
      "working on folder  66 ,  16  images to be tested\n",
      "working on folder  20 ,  63  images to be tested\n",
      "working on folder  7 ,  0  images to be tested\n",
      "working on folder  81 ,  4  images to be tested\n",
      "working on folder  54 ,  21  images to be tested\n",
      "working on folder  48 ,  17  images to be tested\n",
      "working on folder  40 ,  33  images to be tested\n",
      "working on folder  14 ,  4  images to be tested\n",
      "working on folder  25 ,  104  images to be tested\n",
      "working on folder  58 ,  25  images to be tested\n",
      "working on folder  30 ,  78  images to be tested\n",
      "working on folder  9 ,  1  images to be tested\n",
      "working on folder  79 ,  6  images to be tested\n",
      "working on folder  35 ,  60  images to be tested\n",
      "working on folder  15 ,  11  images to be tested\n",
      "working on folder  76 ,  14  images to be tested\n",
      "working on folder  28 ,  97  images to be tested\n",
      "working on folder  6 ,  0  images to be tested\n",
      "working on folder  17 ,  12  images to be tested\n",
      "working on folder  88 ,  5  images to be tested\n",
      "working on folder  86 ,  4  images to be tested\n",
      "working on folder  93 ,  2  images to be tested\n",
      "working on folder  8 ,  1  images to be tested\n",
      "working on folder  43 ,  31  images to be tested\n",
      "working on folder  32 ,  60  images to be tested\n",
      "working on folder  96 ,  1  images to be tested\n",
      "working on folder  31 ,  80  images to be tested\n",
      "working on folder  64 ,  14  images to be tested\n",
      "working on folder  53 ,  21  images to be tested\n",
      "working on folder  33 ,  52  images to be tested\n",
      "working on folder  63 ,  29  images to be tested\n",
      "working on folder  95 ,  2  images to be tested\n",
      "working on folder  82 ,  8  images to be tested\n",
      "working on folder  61 ,  17  images to be tested\n",
      "working on folder  18 ,  37  images to be tested\n",
      "working on folder  89 ,  3  images to be tested\n",
      "working on folder  94 ,  1  images to be tested\n",
      "working on folder  99 ,  0  images to be tested\n",
      "working on folder  22 ,  93  images to be tested\n",
      "working on folder  12 ,  0  images to be tested\n",
      "working on folder  98 ,  0  images to be tested\n",
      "working on folder  60 ,  24  images to be tested\n",
      "working on folder  44 ,  40  images to be tested\n",
      "working on folder  56 ,  20  images to be tested\n",
      "working on folder  21 ,  69  images to be tested\n",
      "working on folder  92 ,  1  images to be tested\n",
      "working on folder  23 ,  103  images to be tested\n",
      "working on folder  24 ,  110  images to be tested\n",
      "working on folder  36 ,  52  images to be tested\n",
      "working on folder  68 ,  14  images to be tested\n",
      "working on folder  34 ,  56  images to be tested\n",
      "working on folder  52 ,  26  images to be tested\n",
      "working on folder  13 ,  1  images to be tested\n",
      "working on folder  55 ,  23  images to be tested\n",
      "working on folder  0 ,  0  images to be tested\n",
      "working on folder  80 ,  5  images to be tested\n",
      "working on folder  11 ,  0  images to be tested\n",
      "working on folder  37 ,  43  images to be tested\n",
      "working on folder  90 ,  0  images to be tested\n",
      "working on folder  2 ,  0  images to be tested\n",
      "working on folder  57 ,  23  images to be tested\n",
      "working on folder  67 ,  18  images to be tested\n",
      "working on folder  72 ,  10  images to be tested\n",
      "working on folder  19 ,  42  images to be tested\n",
      "working on folder  59 ,  26  images to be tested\n",
      "working on folder  78 ,  8  images to be tested\n",
      "working on folder  97 ,  0  images to be tested\n",
      "working on folder  49 ,  44  images to be tested\n",
      "working on folder  10 ,  0  images to be tested\n",
      "working on folder  4 ,  0  images to be tested\n",
      "working on folder  16 ,  4  images to be tested\n",
      "working on folder  26 ,  129  images to be tested\n",
      "working on folder  87 ,  1  images to be tested\n",
      "working on folder  51 ,  25  images to be tested\n",
      "working on folder  65 ,  16  images to be tested\n",
      "working on folder  5 ,  0  images to be tested\n",
      "working on folder  38 ,  39  images to be tested\n",
      "working on folder  75 ,  7  images to be tested\n",
      "working on folder  1 ,  1  images to be tested\n",
      "working on folder  83 ,  6  images to be tested\n",
      "working on folder  45 ,  37  images to be tested\n",
      "working on folder  3 ,  0  images to be tested\n",
      "working on folder  85 ,  2  images to be tested\n",
      "working on folder  46 ,  39  images to be tested\n",
      "working on folder  77 ,  5  images to be tested\n",
      "working on folder  42 ,  39  images to be tested\n",
      "working on folder  84 ,  2  images to be tested\n"
     ]
    }
   ],
   "source": [
    "difs_by_age = test('/home/dongwenjian/Jupyter/DeepLearningWithPyTorch/projet/data2/wiki_crop_test/')"
   ]
  },
  {
   "cell_type": "code",
   "execution_count": null,
   "metadata": {},
   "outputs": [],
   "source": []
  },
  {
   "cell_type": "code",
   "execution_count": 42,
   "metadata": {},
   "outputs": [],
   "source": [
    "n = 101\n",
    "diffs = np.zeros((n,))\n",
    "for key in difs_by_age:\n",
    "    diffs[key] = np.mean(difs_by_age[key])"
   ]
  },
  {
   "cell_type": "code",
   "execution_count": 46,
   "metadata": {},
   "outputs": [
    {
     "data": {
      "text/plain": [
       "Text(0.5, 1.0, 'model of cetinsamet tested on our test data')"
      ]
     },
     "execution_count": 46,
     "metadata": {},
     "output_type": "execute_result"
    },
    {
     "data": {
      "image/png": "[encoded data removed]",
      "text/plain": [
       "<Figure size 432x288 with 1 Axes>"
      ]
     },
     "metadata": {},
     "output_type": "display_data"
    }
   ],
   "source": [
    "import matplotlib.pyplot as plt\n",
    "plt.plot(diffs)\n",
    "plt.xlabel('reference age')\n",
    "plt.ylabel('difference')\n",
    "plt.title('model of cetinsamet tested on our test data')"
   ]
  },
  {
   "cell_type": "code",
   "execution_count": null,
   "metadata": {},
   "outputs": [],
   "source": []
  }
 ],
 "metadata": {
  "kernelspec": {
   "display_name": "Python 3",
   "language": "python",
   "name": "python3"
  },
  "language_info": {
   "codemirror_mode": {
    "name": "ipython",
    "version": 3
   },
   "file_extension": ".py",
   "mimetype": "text/x-python",
   "name": "python",
   "nbconvert_exporter": "python",
   "pygments_lexer": "ipython3",
   "version": "3.6.8"
  }
 },
 "nbformat": 4,
 "nbformat_minor": 2
}
