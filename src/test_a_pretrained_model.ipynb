{
 "cells": [
  {
   "cell_type": "code",
   "execution_count": 1,
   "metadata": {},
   "outputs": [],
   "source": [
    "import sys\n",
    "import numpy as np\n",
    "from PIL import Image\n",
    "\n",
    "import torch\n",
    "import torch.nn as nn\n",
    "import torch.nn.functional as F\n",
    "from torch.autograd import Variable\n",
    "\n",
    "from train import twoHiddenNet\n",
    "from utils.img_to_vec import Img2Vec\n",
    "\n",
    "import os"
   ]
  },
  {
   "cell_type": "code",
   "execution_count": 2,
   "metadata": {},
   "outputs": [],
   "source": [
    "MODEL_PATH = \"../model/age_est_model.pt\""
   ]
  },
  {
   "cell_type": "code",
   "execution_count": 3,
   "metadata": {},
   "outputs": [],
   "source": [
    "def get_feats(image_path):\n",
    "    fe = Img2Vec(cuda=False)  # change this if you use Cuda version of the PyTorch.\n",
    "    img = Image.open(image_path)\n",
    "    img = img.resize((224, 224))\n",
    "    feats = fe.get_vec(img).reshape(1, -1)\n",
    "    return feats"
   ]
  },
  {
   "cell_type": "code",
   "execution_count": 4,
   "metadata": {},
   "outputs": [],
   "source": [
    "def get_model():\n",
    "    model = twoHiddenNet()\n",
    "    model.load_state_dict(torch.load(MODEL_PATH))\n",
    "    return model"
   ]
  },
  {
   "cell_type": "code",
   "execution_count": 5,
   "metadata": {},
   "outputs": [],
   "source": [
    "def estimate_age_from_image(image_path):\n",
    "\n",
    "    image_feats = get_feats(image_path)\n",
    "\n",
    "    model = get_model()\n",
    "    estimated_age = model(Variable(torch.from_numpy(image_feats).float()))\n",
    "    return estimated_age.data.cpu().numpy()[0][0]"
   ]
  },
  {
   "cell_type": "code",
   "execution_count": null,
   "metadata": {},
   "outputs": [],
   "source": [
    "def test(test_data_path):\n",
    "    folders = os.listdir(test_data_path)\n",
    "    for folder in folders:\n",
    "        "
   ]
  },
  {
   "cell_type": "code",
   "execution_count": null,
   "metadata": {},
   "outputs": [],
   "source": [
    "'/home/dongwenjian/Jupyter/DeepLearningWithPyTorch/projet/data5'"
   ]
  }
 ],
 "metadata": {
  "kernelspec": {
   "display_name": "Python 3",
   "language": "python",
   "name": "python3"
  },
  "language_info": {
   "codemirror_mode": {
    "name": "ipython",
    "version": 3
   },
   "file_extension": ".py",
   "mimetype": "text/x-python",
   "name": "python",
   "nbconvert_exporter": "python",
   "pygments_lexer": "ipython3",
   "version": "3.6.8"
  }
 },
 "nbformat": 4,
 "nbformat_minor": 2
}
